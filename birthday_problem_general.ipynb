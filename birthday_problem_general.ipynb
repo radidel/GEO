{
 "cells": [
  {
   "cell_type": "code",
   "execution_count": null,
   "metadata": {},
   "outputs": [],
   "source": [
    "from random import randint\n",
    "\n",
    "import matplotlib.pyplot as plt\n",
    "import seaborn as sns\n",
    "\n",
    "\n",
    "MIN_NUM_PEOPLE = 2\n",
    "MAX_NUM_PEOPLE = 60\n",
    "NUM_POSSIBLE_BIRTHDAYS = 365\n",
    "NUM_TRIALS = 10000"
   ]
  },
  {
   "cell_type": "code",
   "execution_count": null,
   "metadata": {},
   "outputs": [],
   "source": [
    "def generate_random_birthday():\n",
    "    birthday = randint(1, NUM_POSSIBLE_BIRTHDAYS)\n",
    "    return birthday\n",
    "\n",
    "\n",
    "def generate_k_birthdays(k):\n",
    "    birthdays = [generate_random_birthday() for _ in range(k)]\n",
    "    return birthdays\n",
    "\n",
    "\n",
    "def aloc(birthdays):\n",
    "    unique_birthdays = set(birthdays)\n",
    "\n",
    "    num_birthdays = len(birthdays)\n",
    "    num_unique_birthdays = len(unique_birthdays)\n",
    "    has_coincidence = (num_birthdays != num_unique_birthdays)\n",
    "\n",
    "    return has_coincidence\n",
    "\n",
    "\n",
    "def estimate_p_aloc(k):\n",
    "    num_aloc = 0\n",
    "    for _ in range(NUM_TRIALS):\n",
    "        birthdays = generate_k_birthdays(k)\n",
    "        has_coincidence = aloc(birthdays)\n",
    "        if has_coincidence:\n",
    "            num_aloc += 1\n",
    "\n",
    "    p_aloc = num_aloc / NUM_TRIALS\n",
    "    return p_aloc\n",
    "\n",
    "\n",
    "def estimate_p_aloc_for_range(ks):\n",
    "    k_probabilities = []\n",
    "\n",
    "    for k in ks:\n",
    "        p_aloc = estimate_p_aloc(k)\n",
    "        k_probabilities.append(p_aloc)\n",
    "        \n",
    "    return k_probabilities"
   ]
  },
  {
   "cell_type": "code",
   "execution_count": null,
   "metadata": {},
   "outputs": [],
   "source": [
    "ks = range(MIN_NUM_PEOPLE, MAX_NUM_PEOPLE + 1)\n",
    "k_probabilities = estimate_p_aloc_for_range(ks)"
   ]
  },
  {
   "cell_type": "code",
   "execution_count": null,
   "metadata": {},
   "outputs": [],
   "source": [
    "fig, ax = plt.subplots(figsize=(10, 10), dpi=49)\n",
    "ax.set_facecolor('#518792')\n",
    "ax.xaxis.set_tick_params(width=5, color='#2d3233')\n",
    "ax.yaxis.set_tick_params(width=5, color='#2d3233')\n",
    "\n",
    "sns.lineplot(x=ks, y=k_probabilities, color='#2d3233')\n",
    "\n",
    "plt.xticks(fontsize=15, color='#2d3233')\n",
    "y_range = [0, 0.1, 0.2, 0.3, 0.4, 0.5, 0.6, 0.7, 0.8, 0.9, 1]\n",
    "plt.yticks(y_range, fontsize=15, color='#2d3233')\n",
    "plt.grid()\n",
    "plt.xlim([0, 60])\n",
    "plt.ylim([0, 1])\n",
    "plt.xlabel('Number of people', fontsize=30, color='#2d3233')\n",
    "plt.ylabel('P(At Least One Coincidence)', fontsize=30, color='#2d3233')\n",
    "\n",
    "plt.show()"
   ]
  }
 ],
 "metadata": {
  "kernelspec": {
   "display_name": "Python 3",
   "language": "python",
   "name": "python3"
  },
  "language_info": {
   "codemirror_mode": {
    "name": "ipython",
    "version": 3
   },
   "file_extension": ".py",
   "mimetype": "text/x-python",
   "name": "python",
   "nbconvert_exporter": "python",
   "pygments_lexer": "ipython3",
   "version": "3.7.6"
  }
 },
 "nbformat": 4,
 "nbformat_minor": 4
}
